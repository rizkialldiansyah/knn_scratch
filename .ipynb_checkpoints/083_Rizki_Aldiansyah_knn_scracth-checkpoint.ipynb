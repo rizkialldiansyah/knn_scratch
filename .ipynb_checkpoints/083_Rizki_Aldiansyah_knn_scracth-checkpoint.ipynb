{
 "cells": [
  {
   "cell_type": "code",
   "execution_count": 1,
   "metadata": {},
   "outputs": [],
   "source": [
    "import pandas as pd\n",
    "import math "
   ]
  },
  {
   "cell_type": "markdown",
   "metadata": {},
   "source": [
    "### Input Columns"
   ]
  },
  {
   "cell_type": "code",
   "execution_count": 2,
   "metadata": {},
   "outputs": [
    {
     "name": "stdout",
     "output_type": "stream",
     "text": [
      "Masukan jumlah feature kolom dan kolom label: 3\n"
     ]
    }
   ],
   "source": [
    "# columns\n",
    "n_column = int(input(\"Masukan jumlah feature kolom dan kolom label: \"))"
   ]
  },
  {
   "cell_type": "code",
   "execution_count": 3,
   "metadata": {},
   "outputs": [
    {
     "name": "stdout",
     "output_type": "stream",
     "text": [
      "Nama column ke-1: x\n",
      "Nama column ke-2: y\n",
      "Nama column ke-3: kategori\n"
     ]
    }
   ],
   "source": [
    "columns = []\n",
    "for i in range(n_column):\n",
    "    column = input(f'Nama column ke-{i+1}: ')\n",
    "    columns.append(column)"
   ]
  },
  {
   "cell_type": "code",
   "execution_count": 4,
   "metadata": {},
   "outputs": [
    {
     "name": "stdout",
     "output_type": "stream",
     "text": [
      "['x', 'y', 'kategori']\n"
     ]
    }
   ],
   "source": [
    "print(columns)"
   ]
  },
  {
   "cell_type": "markdown",
   "metadata": {},
   "source": [
    "### Input Index"
   ]
  },
  {
   "cell_type": "code",
   "execution_count": 5,
   "metadata": {},
   "outputs": [
    {
     "name": "stdout",
     "output_type": "stream",
     "text": [
      "Masukan jumlah baris data: 6\n"
     ]
    }
   ],
   "source": [
    "# index\n",
    "n_index = int(input(\"Masukan jumlah baris data: \"))"
   ]
  },
  {
   "cell_type": "code",
   "execution_count": 6,
   "metadata": {},
   "outputs": [
    {
     "name": "stdout",
     "output_type": "stream",
     "text": [
      "Baris ke-1\n",
      "Input nilai baris ke-0 pada kolom x : 7\n",
      "Input nilai baris ke-0 pada kolom y : 6\n",
      "Input nilai baris ke-0 pada kolom kategori : bad\n",
      "\n",
      "\n",
      "Baris ke-2\n",
      "Input nilai baris ke-1 pada kolom x : 6\n",
      "Input nilai baris ke-1 pada kolom y : 6\n",
      "Input nilai baris ke-1 pada kolom kategori : bad\n",
      "\n",
      "\n",
      "Baris ke-3\n",
      "Input nilai baris ke-2 pada kolom x : 6\n",
      "Input nilai baris ke-2 pada kolom y : 5\n",
      "Input nilai baris ke-2 pada kolom kategori : bad\n",
      "\n",
      "\n",
      "Baris ke-4\n",
      "Input nilai baris ke-3 pada kolom x : 1\n",
      "Input nilai baris ke-3 pada kolom y : 3\n",
      "Input nilai baris ke-3 pada kolom kategori : good\n",
      "\n",
      "\n",
      "Baris ke-5\n",
      "Input nilai baris ke-4 pada kolom x : 2\n",
      "Input nilai baris ke-4 pada kolom y : 4\n",
      "Input nilai baris ke-4 pada kolom kategori : good\n",
      "\n",
      "\n",
      "Baris ke-6\n",
      "Input nilai baris ke-5 pada kolom x : 2\n",
      "Input nilai baris ke-5 pada kolom y : 2\n",
      "Input nilai baris ke-5 pada kolom kategori : good\n",
      "\n",
      "\n"
     ]
    }
   ],
   "source": [
    "index = []\n",
    "for i in range(n_index):\n",
    "    baris = []\n",
    "    print(f'Baris ke-{i+1}')\n",
    "    for j in columns:\n",
    "        if j == columns[-1]:\n",
    "            baris.append(input(f'Input nilai baris ke-{i} pada kolom {j} : '))\n",
    "        else:\n",
    "            baris.append(int(input(f'Input nilai baris ke-{i} pada kolom {j} : ')))\n",
    "    index.append(baris)\n",
    "    print(\"\\n\")"
   ]
  },
  {
   "cell_type": "code",
   "execution_count": 7,
   "metadata": {},
   "outputs": [
    {
     "name": "stdout",
     "output_type": "stream",
     "text": [
      "[[7, 6, 'bad'], [6, 6, 'bad'], [6, 5, 'bad'], [1, 3, 'good'], [2, 4, 'good'], [2, 2, 'good']]\n"
     ]
    }
   ],
   "source": [
    "print(index)"
   ]
  },
  {
   "cell_type": "markdown",
   "metadata": {},
   "source": [
    "### Membuat DataFrame dan Split Features & Label"
   ]
  },
  {
   "cell_type": "markdown",
   "metadata": {},
   "source": [
    "Membuat DataFrame"
   ]
  },
  {
   "cell_type": "code",
   "execution_count": 8,
   "metadata": {},
   "outputs": [
    {
     "data": {
      "text/html": [
       "<div>\n",
       "<style scoped>\n",
       "    .dataframe tbody tr th:only-of-type {\n",
       "        vertical-align: middle;\n",
       "    }\n",
       "\n",
       "    .dataframe tbody tr th {\n",
       "        vertical-align: top;\n",
       "    }\n",
       "\n",
       "    .dataframe thead th {\n",
       "        text-align: right;\n",
       "    }\n",
       "</style>\n",
       "<table border=\"1\" class=\"dataframe\">\n",
       "  <thead>\n",
       "    <tr style=\"text-align: right;\">\n",
       "      <th></th>\n",
       "      <th>x</th>\n",
       "      <th>y</th>\n",
       "      <th>kategori</th>\n",
       "    </tr>\n",
       "  </thead>\n",
       "  <tbody>\n",
       "    <tr>\n",
       "      <th>0</th>\n",
       "      <td>7</td>\n",
       "      <td>6</td>\n",
       "      <td>bad</td>\n",
       "    </tr>\n",
       "    <tr>\n",
       "      <th>1</th>\n",
       "      <td>6</td>\n",
       "      <td>6</td>\n",
       "      <td>bad</td>\n",
       "    </tr>\n",
       "    <tr>\n",
       "      <th>2</th>\n",
       "      <td>6</td>\n",
       "      <td>5</td>\n",
       "      <td>bad</td>\n",
       "    </tr>\n",
       "    <tr>\n",
       "      <th>3</th>\n",
       "      <td>1</td>\n",
       "      <td>3</td>\n",
       "      <td>good</td>\n",
       "    </tr>\n",
       "    <tr>\n",
       "      <th>4</th>\n",
       "      <td>2</td>\n",
       "      <td>4</td>\n",
       "      <td>good</td>\n",
       "    </tr>\n",
       "    <tr>\n",
       "      <th>5</th>\n",
       "      <td>2</td>\n",
       "      <td>2</td>\n",
       "      <td>good</td>\n",
       "    </tr>\n",
       "  </tbody>\n",
       "</table>\n",
       "</div>"
      ],
      "text/plain": [
       "   x  y kategori\n",
       "0  7  6      bad\n",
       "1  6  6      bad\n",
       "2  6  5      bad\n",
       "3  1  3     good\n",
       "4  2  4     good\n",
       "5  2  2     good"
      ]
     },
     "execution_count": 8,
     "metadata": {},
     "output_type": "execute_result"
    }
   ],
   "source": [
    "df = pd.DataFrame(index, columns=columns)\n",
    "df"
   ]
  },
  {
   "cell_type": "code",
   "execution_count": 9,
   "metadata": {},
   "outputs": [
    {
     "data": {
      "text/plain": [
       "{'bad', 'good'}"
      ]
     },
     "execution_count": 9,
     "metadata": {},
     "output_type": "execute_result"
    }
   ],
   "source": [
    "unique_class = set(df[columns[-1]])\n",
    "unique_class"
   ]
  },
  {
   "cell_type": "markdown",
   "metadata": {},
   "source": [
    "Split Features & Label"
   ]
  },
  {
   "cell_type": "code",
   "execution_count": 10,
   "metadata": {},
   "outputs": [],
   "source": [
    "features = columns[:-1]\n",
    "label = columns [-1]\n",
    "X = df[features]\n",
    "y = df[label]"
   ]
  },
  {
   "cell_type": "code",
   "execution_count": 11,
   "metadata": {},
   "outputs": [
    {
     "data": {
      "text/html": [
       "<div>\n",
       "<style scoped>\n",
       "    .dataframe tbody tr th:only-of-type {\n",
       "        vertical-align: middle;\n",
       "    }\n",
       "\n",
       "    .dataframe tbody tr th {\n",
       "        vertical-align: top;\n",
       "    }\n",
       "\n",
       "    .dataframe thead th {\n",
       "        text-align: right;\n",
       "    }\n",
       "</style>\n",
       "<table border=\"1\" class=\"dataframe\">\n",
       "  <thead>\n",
       "    <tr style=\"text-align: right;\">\n",
       "      <th></th>\n",
       "      <th>x</th>\n",
       "      <th>y</th>\n",
       "    </tr>\n",
       "  </thead>\n",
       "  <tbody>\n",
       "    <tr>\n",
       "      <th>0</th>\n",
       "      <td>7</td>\n",
       "      <td>6</td>\n",
       "    </tr>\n",
       "    <tr>\n",
       "      <th>1</th>\n",
       "      <td>6</td>\n",
       "      <td>6</td>\n",
       "    </tr>\n",
       "    <tr>\n",
       "      <th>2</th>\n",
       "      <td>6</td>\n",
       "      <td>5</td>\n",
       "    </tr>\n",
       "    <tr>\n",
       "      <th>3</th>\n",
       "      <td>1</td>\n",
       "      <td>3</td>\n",
       "    </tr>\n",
       "    <tr>\n",
       "      <th>4</th>\n",
       "      <td>2</td>\n",
       "      <td>4</td>\n",
       "    </tr>\n",
       "    <tr>\n",
       "      <th>5</th>\n",
       "      <td>2</td>\n",
       "      <td>2</td>\n",
       "    </tr>\n",
       "  </tbody>\n",
       "</table>\n",
       "</div>"
      ],
      "text/plain": [
       "   x  y\n",
       "0  7  6\n",
       "1  6  6\n",
       "2  6  5\n",
       "3  1  3\n",
       "4  2  4\n",
       "5  2  2"
      ]
     },
     "execution_count": 11,
     "metadata": {},
     "output_type": "execute_result"
    }
   ],
   "source": [
    "X"
   ]
  },
  {
   "cell_type": "code",
   "execution_count": 12,
   "metadata": {},
   "outputs": [
    {
     "data": {
      "text/plain": [
       "0     bad\n",
       "1     bad\n",
       "2     bad\n",
       "3    good\n",
       "4    good\n",
       "5    good\n",
       "Name: kategori, dtype: object"
      ]
     },
     "execution_count": 12,
     "metadata": {},
     "output_type": "execute_result"
    }
   ],
   "source": [
    "y"
   ]
  },
  {
   "cell_type": "markdown",
   "metadata": {},
   "source": [
    "### Menghitung Jarak"
   ]
  },
  {
   "cell_type": "code",
   "execution_count": 13,
   "metadata": {},
   "outputs": [
    {
     "name": "stdout",
     "output_type": "stream",
     "text": [
      "Input nilai test pada kolom x : 3\n",
      "Input nilai test pada kolom y : 5\n"
     ]
    }
   ],
   "source": [
    "atributs = []\n",
    "for i in range(len(columns[:-1])):\n",
    "    atributs.append(int(input(f'Input nilai test pada kolom {columns[i]} : ')))"
   ]
  },
  {
   "cell_type": "code",
   "execution_count": 14,
   "metadata": {},
   "outputs": [],
   "source": [
    "distances = []\n",
    "def ED(atributs, features):\n",
    "    for i in range(len(features)):\n",
    "        distance = 0\n",
    "        print(f'baris ke-{i+1}')\n",
    "        for j in columns[:-1]:\n",
    "            hasil = (features[j][i] - atributs[columns.index(j)])**2\n",
    "            distance = distance + hasil\n",
    "            print(f'Hasil {j} : {hasil}')\n",
    "        distance = round(math.sqrt(distance), 2)\n",
    "        print(f'Jarak : {distance}\\n')\n",
    "        distances.append(distance)    "
   ]
  },
  {
   "cell_type": "code",
   "execution_count": 15,
   "metadata": {},
   "outputs": [
    {
     "name": "stdout",
     "output_type": "stream",
     "text": [
      "baris ke-1\n",
      "Hasil x : 16\n",
      "Hasil y : 1\n",
      "Jarak : 4.12\n",
      "\n",
      "baris ke-2\n",
      "Hasil x : 9\n",
      "Hasil y : 1\n",
      "Jarak : 3.16\n",
      "\n",
      "baris ke-3\n",
      "Hasil x : 9\n",
      "Hasil y : 0\n",
      "Jarak : 3.0\n",
      "\n",
      "baris ke-4\n",
      "Hasil x : 4\n",
      "Hasil y : 4\n",
      "Jarak : 2.83\n",
      "\n",
      "baris ke-5\n",
      "Hasil x : 1\n",
      "Hasil y : 1\n",
      "Jarak : 1.41\n",
      "\n",
      "baris ke-6\n",
      "Hasil x : 1\n",
      "Hasil y : 9\n",
      "Jarak : 3.16\n",
      "\n"
     ]
    }
   ],
   "source": [
    "ED(atributs, X)"
   ]
  },
  {
   "cell_type": "code",
   "execution_count": 16,
   "metadata": {},
   "outputs": [
    {
     "name": "stdout",
     "output_type": "stream",
     "text": [
      "[4.12, 3.16, 3.0, 2.83, 1.41, 3.16]\n"
     ]
    }
   ],
   "source": [
    "print(distances)"
   ]
  },
  {
   "cell_type": "markdown",
   "metadata": {},
   "source": [
    "### Memasukan Kolom Jarak"
   ]
  },
  {
   "cell_type": "code",
   "execution_count": 17,
   "metadata": {},
   "outputs": [],
   "source": [
    "df.insert(n_column, \"Distances\", distances)"
   ]
  },
  {
   "cell_type": "code",
   "execution_count": 18,
   "metadata": {},
   "outputs": [
    {
     "data": {
      "text/html": [
       "<div>\n",
       "<style scoped>\n",
       "    .dataframe tbody tr th:only-of-type {\n",
       "        vertical-align: middle;\n",
       "    }\n",
       "\n",
       "    .dataframe tbody tr th {\n",
       "        vertical-align: top;\n",
       "    }\n",
       "\n",
       "    .dataframe thead th {\n",
       "        text-align: right;\n",
       "    }\n",
       "</style>\n",
       "<table border=\"1\" class=\"dataframe\">\n",
       "  <thead>\n",
       "    <tr style=\"text-align: right;\">\n",
       "      <th></th>\n",
       "      <th>x</th>\n",
       "      <th>y</th>\n",
       "      <th>kategori</th>\n",
       "      <th>Distances</th>\n",
       "    </tr>\n",
       "  </thead>\n",
       "  <tbody>\n",
       "    <tr>\n",
       "      <th>0</th>\n",
       "      <td>7</td>\n",
       "      <td>6</td>\n",
       "      <td>bad</td>\n",
       "      <td>4.12</td>\n",
       "    </tr>\n",
       "    <tr>\n",
       "      <th>1</th>\n",
       "      <td>6</td>\n",
       "      <td>6</td>\n",
       "      <td>bad</td>\n",
       "      <td>3.16</td>\n",
       "    </tr>\n",
       "    <tr>\n",
       "      <th>2</th>\n",
       "      <td>6</td>\n",
       "      <td>5</td>\n",
       "      <td>bad</td>\n",
       "      <td>3.00</td>\n",
       "    </tr>\n",
       "    <tr>\n",
       "      <th>3</th>\n",
       "      <td>1</td>\n",
       "      <td>3</td>\n",
       "      <td>good</td>\n",
       "      <td>2.83</td>\n",
       "    </tr>\n",
       "    <tr>\n",
       "      <th>4</th>\n",
       "      <td>2</td>\n",
       "      <td>4</td>\n",
       "      <td>good</td>\n",
       "      <td>1.41</td>\n",
       "    </tr>\n",
       "    <tr>\n",
       "      <th>5</th>\n",
       "      <td>2</td>\n",
       "      <td>2</td>\n",
       "      <td>good</td>\n",
       "      <td>3.16</td>\n",
       "    </tr>\n",
       "  </tbody>\n",
       "</table>\n",
       "</div>"
      ],
      "text/plain": [
       "   x  y kategori  Distances\n",
       "0  7  6      bad       4.12\n",
       "1  6  6      bad       3.16\n",
       "2  6  5      bad       3.00\n",
       "3  1  3     good       2.83\n",
       "4  2  4     good       1.41\n",
       "5  2  2     good       3.16"
      ]
     },
     "execution_count": 18,
     "metadata": {},
     "output_type": "execute_result"
    }
   ],
   "source": [
    "df"
   ]
  },
  {
   "cell_type": "markdown",
   "metadata": {},
   "source": [
    "### Menampilkan label dengan jarak terdekat dengan nilai k"
   ]
  },
  {
   "cell_type": "code",
   "execution_count": 19,
   "metadata": {},
   "outputs": [
    {
     "name": "stdout",
     "output_type": "stream",
     "text": [
      "Input nilai k: 3\n"
     ]
    }
   ],
   "source": [
    "k = int(input(\"Input nilai k: \"))"
   ]
  },
  {
   "cell_type": "code",
   "execution_count": 20,
   "metadata": {},
   "outputs": [],
   "source": [
    "sort = df.sort_values(by=['Distances']).iloc[:k]"
   ]
  },
  {
   "cell_type": "code",
   "execution_count": 21,
   "metadata": {},
   "outputs": [],
   "source": [
    "sort_count = list(sort[columns[-1]])"
   ]
  },
  {
   "cell_type": "code",
   "execution_count": 23,
   "metadata": {},
   "outputs": [
    {
     "name": "stdout",
     "output_type": "stream",
     "text": [
      "Class good sebanyak 2\n",
      "Class bad sebanyak 1\n"
     ]
    }
   ],
   "source": [
    "for i in unique_class:\n",
    "    print(f'Class {i} sebanyak {sort_count.count(i)}')"
   ]
  },
  {
   "cell_type": "code",
   "execution_count": null,
   "metadata": {},
   "outputs": [],
   "source": []
  }
 ],
 "metadata": {
  "kernelspec": {
   "display_name": "Python 3",
   "language": "python",
   "name": "python3"
  },
  "language_info": {
   "codemirror_mode": {
    "name": "ipython",
    "version": 3
   },
   "file_extension": ".py",
   "mimetype": "text/x-python",
   "name": "python",
   "nbconvert_exporter": "python",
   "pygments_lexer": "ipython3",
   "version": "3.8.8"
  }
 },
 "nbformat": 4,
 "nbformat_minor": 4
}
